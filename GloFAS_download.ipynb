{
 "cells": [
  {
   "cell_type": "markdown",
   "id": "1c651b2c-e990-4b83-ab54-e8a124ed0577",
   "metadata": {},
   "source": [
    "This is a script that uses an api to download data from the Global Flood Awareness System (GloFAS). We begin by importing the relevant packages from the aa-env and defining our output directory where we would like to store our forecast data. "
   ]
  },
  {
   "cell_type": "code",
   "execution_count": null,
   "id": "42b159e4-341d-4549-8655-6f2b231fca0a",
   "metadata": {},
   "outputs": [],
   "source": [
    "import cdsapi\n",
    "import os"
   ]
  },
  {
   "cell_type": "code",
   "execution_count": null,
   "id": "132bbc4b-e78e-4316-9827-1d6c2a2b67be",
   "metadata": {},
   "outputs": [],
   "source": [
    "country = 'zimbabwe'  # Define country of interest\n",
    "directory = '/Users/jamietowner/Documents/flood_aa_training/'  # Define directory\n",
    "\n",
    "output_directory = os.path.join(directory, country, \"data/forecasts/glofas\")\n",
    "# Create directories if they don't exist\n",
    "os.makedirs(output_directory, exist_ok=True)\n",
    "output_directory"
   ]
  },
  {
   "cell_type": "markdown",
   "id": "fcf78340-0b19-40c0-89e1-6079cb920313",
   "metadata": {},
   "source": [
    "The main part of the code loops over the desired years, months and days. Remember that in Python the index starts at 0 and so we have to add one year after our desired range. So to get data for 2004 and 2005 our range would be 2004 to 2006. \n",
    "\n",
    "We then define our file_name and define the parameters of the data which we would like. You can change this to get other forms of data such as rainfall data from ERA5, increase or decrease the lead-time or change the area of interest. When running the api will keep you updated on if the data retrival has been accepted, if it is running, if it has completed or if has failed for some reason.\n",
    "\n",
    "For this session there is no reason to change any of the parameters below but you are more than welcome to use this code as a template for future use. "
   ]
  },
  {
   "cell_type": "code",
   "execution_count": null,
   "id": "6e890823-0cd8-43dc-ace5-74e5e3a9b158",
   "metadata": {},
   "outputs": [],
   "source": [
    "c = cdsapi.Client()\n",
    "for year in range(2004,2006): # put the year after the one that is needed (e.g., 2004,2006 to get data for 2004 and 2005)\n",
    "    for month in ['10']:\n",
    "        for day in ['02','05']: # days will change depending on month selected\n",
    "                file_name = f'GloFAS_{year}-{month}-{day}.grib'\n",
    "                file_path = os.path.join(output_directory, file_name)\n",
    "                \n",
    "                if not(os.path.exists(file_path)):\n",
    "                    c.retrieve(\n",
    "                        'cems-glofas-reforecast',\n",
    "                        {\n",
    "                            'system_version': 'version_4_0',\n",
    "                            'hydrological_model': 'lisflood',\n",
    "                            'product_type': ['control_reforecast', 'ensemble_perturbed_reforecast'],\n",
    "                            'variable': 'river_discharge_in_the_last_24_hours',\n",
    "                            'hyear': str(year),\n",
    "                            'hmonth': month,\n",
    "                            'hday': day,\n",
    "                            'leadtime_hour': [\n",
    "                                '24', '48', '72',\n",
    "                                '96', '120', '144',\n",
    "                                '168',\n",
    "                            ],\n",
    "                            'format': 'grib',\n",
    "                            'area': [\n",
    "                                0, 20, -28,\n",
    "                                42,\n",
    "                                ],\n",
    "                            },\n",
    "                        file_path)"
   ]
  },
  {
   "cell_type": "code",
   "execution_count": null,
   "id": "f05e7c2d-efbd-4741-bfb3-88fe10407685",
   "metadata": {},
   "outputs": [],
   "source": []
  }
 ],
 "metadata": {
  "kernelspec": {
   "display_name": "Python 3 (ipykernel)",
   "language": "python",
   "name": "python3"
  },
  "language_info": {
   "codemirror_mode": {
    "name": "ipython",
    "version": 3
   },
   "file_extension": ".py",
   "mimetype": "text/x-python",
   "name": "python",
   "nbconvert_exporter": "python",
   "pygments_lexer": "ipython3",
   "version": "3.12.3"
  }
 },
 "nbformat": 4,
 "nbformat_minor": 5
}
